{
 "cells": [
  {
   "cell_type": "markdown",
   "metadata": {},
   "source": [
    "Objective 1"
   ]
  },
  {
   "cell_type": "code",
   "execution_count": null,
   "metadata": {},
   "outputs": [],
   "source": [
    "import pandas as pd\n",
    "listings = pd.read_csv(r\"C:\\Users\\abbyh\\OneDrive\\Documents\\portfolio_projects\\Listings.csv\", encoding = \"ISO-8859-1\", low_memory=False)\n",
    "\n",
    "listings.head()"
   ]
  },
  {
   "cell_type": "markdown",
   "metadata": {},
   "source": [
    "#imported data "
   ]
  },
  {
   "cell_type": "code",
   "execution_count": null,
   "metadata": {},
   "outputs": [],
   "source": [
    "listings.info()"
   ]
  },
  {
   "cell_type": "code",
   "execution_count": null,
   "metadata": {},
   "outputs": [],
   "source": [
    "listings[\"host_since\"] = pd.to_datetime(listings[\"host_since\"])\n",
    "\n",
    "listings.info()"
   ]
  },
  {
   "cell_type": "markdown",
   "metadata": {},
   "source": [
    "#cast dates as datetime format"
   ]
  },
  {
   "cell_type": "code",
   "execution_count": null,
   "metadata": {},
   "outputs": [],
   "source": [
    "paris_listings = ( \n",
    "listings\n",
    ".query(\"city == 'Paris'\")\n",
    ".loc[:, [\"host_since\",\"neighbourhood\", \"city\", \"accommodates\", \"price\"]]\n",
    ")\n",
    "\n",
    "paris_listings.info()\n",
    "paris_listings.head()\n",
    "\n",
    "paris_listings.isna().sum()"
   ]
  },
  {
   "cell_type": "markdown",
   "metadata": {},
   "source": [
    "#filtered data down to rows where the city is Paris and kept only columns 'host_since', 'neighbourhood', 'city', 'accommodations', and 'price'\n",
    "#QA for missing values \n",
    "#not enough to delete"
   ]
  },
  {
   "cell_type": "code",
   "execution_count": null,
   "metadata": {},
   "outputs": [],
   "source": [
    "paris_listings.describe()"
   ]
  },
  {
   "cell_type": "markdown",
   "metadata": {},
   "source": [
    "#caluculated the min, max, and avg for each numeric field "
   ]
  },
  {
   "cell_type": "code",
   "execution_count": null,
   "metadata": {},
   "outputs": [],
   "source": [
    "paris_listings.query(\"accommodates == 0\").count()"
   ]
  },
  {
   "cell_type": "code",
   "execution_count": null,
   "metadata": {},
   "outputs": [],
   "source": [
    "paris_listings.query(\"price == 0 and accommodates == 0\").count()"
   ]
  },
  {
   "cell_type": "markdown",
   "metadata": {},
   "source": [
    "#not enough to delete \n",
    "#usually when price is 0, accomodates is 0\n",
    "#not enough to affect statistics\n"
   ]
  },
  {
   "cell_type": "markdown",
   "metadata": {},
   "source": [
    "Objective 2: Prepare for Visualization\n",
    "#Create a DataFrame called paris_listings_neighbourhood. Group the Paris listings by neighbourhood and caluculate the avg proce for each. Sort by proce in ASC order.\n",
    "#Create a DataFrame called paris_listings_accomodations. Filter down to the most expensive neighbourhood in Paris. Group it by accomodates and caluclate the avg price for each. Sort by price in  ASC \n",
    "#Create DataFrame called paris_listings_over_time. Group by year of host_since. Calculate a count of rows to get the number of new hosts for each yearn and the avg pice of listings for each year."
   ]
  },
  {
   "cell_type": "code",
   "execution_count": null,
   "metadata": {},
   "outputs": [],
   "source": [
    "paris_listings_neighbourhood = (\n",
    "    paris_listings\n",
    "    .groupby(\"neighbourhood\")\n",
    "    .agg({\"price\" : \"mean\"})\n",
    "    .sort_values(\"price\")\n",
    ")\n",
    "\n",
    "paris_listings_neighbourhood.tail()"
   ]
  },
  {
   "cell_type": "code",
   "execution_count": null,
   "metadata": {},
   "outputs": [],
   "source": [
    "paris_listings_accommodates = (\n",
    "    paris_listings\n",
    "    .query(\"neighbourhood == 'Elysee'\")\n",
    "    .groupby(\"accommodates\")\n",
    "    .agg({\"price\" : \"mean\"})\n",
    "    .sort_values(\"price\")\n",
    ")\n",
    "\n",
    "paris_listings_accommodates.head()"
   ]
  },
  {
   "cell_type": "code",
   "execution_count": null,
   "metadata": {},
   "outputs": [],
   "source": [
    "paris_listings_over_time = (\n",
    "    paris_listings\n",
    "    .set_index(\"host_since\")\n",
    "    .resample(\"YE\")\n",
    "    .agg({\n",
    "        \"neighbourhood\" : \"count\",\n",
    "        \"price\" : \"mean\"\n",
    "    })\n",
    ")\n",
    "\n",
    "paris_listings_over_time.head()"
   ]
  },
  {
   "cell_type": "markdown",
   "metadata": {},
   "source": [
    "Objective 3 Visualize the data and Summerize findings \n",
    "#build visuals to show the number of new hosts by year, overall avg price by year and neighbourhood, and avg price for various types of listings in Paris' most expensive neighbourhood"
   ]
  },
  {
   "cell_type": "code",
   "execution_count": null,
   "metadata": {},
   "outputs": [],
   "source": [
    "import seaborn as sns\n",
    "\n",
    "(paris_listings_neighbourhood\n",
    " .plot\n",
    " .barh(\n",
    "     title=\"Average Listing Price by Paris Neighbourhood\" ,\n",
    "     xlabel=\"Price Per Night (Euros)\",\n",
    "     ylabel=\"Neighbourhood\",\n",
    "     legend=None\n",
    "    \n",
    " )\n",
    " )\n",
    "\n",
    "sns.despine()"
   ]
  },
  {
   "cell_type": "code",
   "execution_count": null,
   "metadata": {},
   "outputs": [],
   "source": [
    "(paris_listings_accommodates\n",
    " .plot\n",
    " .barh(\n",
    "     title=\"Average Listing Price by Accommodation Number\" ,\n",
    "     xlabel=\"Price Per Night (Euros)\",\n",
    "     ylabel=\"Accommodation Capacity\",\n",
    "     legend=None\n",
    "    \n",
    " )\n",
    " )\n",
    "\n",
    "sns.despine()"
   ]
  },
  {
   "cell_type": "code",
   "execution_count": null,
   "metadata": {},
   "outputs": [],
   "source": [
    "paris_listings_over_time[\"neighbourhood\"].plot(\n",
    "    ylabel=\"New Hosts\",\n",
    "    title=\"New AirBnb Hosts in Paris Over Time\"\n",
    ")\n",
    "\n",
    "sns.despine()"
   ]
  },
  {
   "cell_type": "markdown",
   "metadata": {},
   "source": [
    "#regulations and restrictions started in 2015"
   ]
  },
  {
   "cell_type": "code",
   "execution_count": null,
   "metadata": {},
   "outputs": [],
   "source": [
    "paris_listings_over_time[\"price\"].plot(\n",
    "    ylabel=\"New Hosts\",\n",
    "    title=\"Average AirBnb Price in Paris Over Time\"\n",
    ")\n",
    "\n",
    "sns.despine()"
   ]
  },
  {
   "cell_type": "code",
   "execution_count": null,
   "metadata": {},
   "outputs": [],
   "source": [
    "import plotly.express as px\n",
    "\n",
    "fig = px.scatter_mapbox(\n",
    "    listings, \n",
    "    lat='latitude', \n",
    "    lon='longitude', \n",
    "    hover_name= 'neighbourhood',  # To display the neighborhood name on hover\n",
    "    hover_data={'latitude': False, 'longitude': False, 'name': True},  # Customize hover data\n",
    "    zoom=12,  # Set a zoom level for the map\n",
    "    height=600\n",
    ")\n",
    "\n",
    "# Set the map style and access token for mapbox\n",
    "fig.update_layout(\n",
    "    mapbox_style=\"open-street-map\",\n",
    "    title=\"Neighborhoods in Paris\",\n",
    ")\n",
    "\n",
    "# Show the figure\n",
    "fig.show()\n"
   ]
  }
 ],
 "metadata": {
  "kernelspec": {
   "display_name": "Python 3",
   "language": "python",
   "name": "python3"
  },
  "language_info": {
   "codemirror_mode": {
    "name": "ipython",
    "version": 3
   },
   "file_extension": ".py",
   "mimetype": "text/x-python",
   "name": "python",
   "nbconvert_exporter": "python",
   "pygments_lexer": "ipython3",
   "version": "3.11.9"
  }
 },
 "nbformat": 4,
 "nbformat_minor": 2
}
